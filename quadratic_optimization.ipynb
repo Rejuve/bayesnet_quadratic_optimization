{
 "cells": [
  {
   "cell_type": "markdown",
   "id": "1b6d46ab",
   "metadata": {},
   "source": [
    "# Requirements"
   ]
  },
  {
   "cell_type": "code",
   "execution_count": 1,
   "id": "57bc4b02",
   "metadata": {
    "ExecuteTime": {
     "end_time": "2024-06-12T00:56:51.972388Z",
     "start_time": "2024-06-12T00:56:49.351538Z"
    }
   },
   "outputs": [],
   "source": [
    "import qpsolvers\n",
    "from os.path import exists\n",
    "import pickle\n",
    "\n",
    "import sn_bayes\n",
    "from sn_bayes import utils \n",
    "from sn_bayes.utils import predict_proba_adjusted\n",
    "from sn_bayes import longevity_bayes\n",
    "from sn_bayes.utils import complexity_check\n",
    "from sn_bayes.utils import get_var_positions\n",
    "from sn_bayes.utils import get_var_val_positions\n",
    "from sn_bayes.utils import make_tree\n",
    "from sn_bayes.utils import bayesInitialize\n",
    "from sn_bayes.utils import query\n",
    "from sn_bayes.utils import internal_query\n",
    "from sn_bayes.utils import internal_query\n",
    "from sn_bayes.utils import explain_why_bad\n",
    "from sn_bayes.utils import explain_why_good\n",
    "from sn_bayes.utils import create_query\n",
    "from sn_bayes.utils import readable\n",
    "\n",
    "import sn_service.service_spec.bayesian_pb2\n",
    "from sn_service.service_spec.bayesian_pb2 import Query\n",
    "import sn_service.service_spec.bayesian_pb2_grpc as grpc_bayes_grpc\n",
    "import sn_service.service_spec.bayesian_pb2\n",
    "from sn_service.service_spec.bayesian_pb2 import BayesianNetworkQuery\n",
    "from sn_service.service_spec.bayesian_pb2 import QueryId\n",
    "from sn_service.service_spec.bayesian_pb2 import Id\n",
    "from sn_bayes.utils import bayesInitialize\n",
    "from sn_bayes.utils import any_of\n",
    "from sn_bayes.utils import all_of\n",
    "from sn_bayes.utils import avg\n",
    "from sn_bayes.utils import if_then_else\n",
    "from sn_bayes.utils import bayesInitialize\n",
    "from sn_bayes.utils import addCpt\n",
    "from sn_bayes.utils import dependency\n",
    "from sn_bayes.utils import dependency_direct\n",
    "from sn_bayes.utils import non_cpt_descriptions\n",
    "\n",
    "import sn_service.service_spec.bayesian_pb2\n",
    "from sn_service.service_spec.bayesian_pb2 import BayesianNetwork\n",
    "\n",
    "import grpc\n",
    "import pandas as pd\n",
    "import networkx as nx\n",
    "import time\n",
    "import re\n",
    "\n",
    "import matplotlib.pyplot as plt"
   ]
  },
  {
   "cell_type": "code",
   "execution_count": 11,
   "id": "7b5b94da",
   "metadata": {
    "ExecuteTime": {
     "end_time": "2024-06-12T01:00:25.195636Z",
     "start_time": "2024-06-12T01:00:25.186283Z"
    }
   },
   "outputs": [],
   "source": [
    "bayesianNetwork0 = BayesianNetwork()\n",
    "cpt = {}\n",
    "outstr = '' "
   ]
  },
  {
   "cell_type": "code",
   "execution_count": 2,
   "id": "23be00ff",
   "metadata": {
    "ExecuteTime": {
     "end_time": "2024-06-12T00:56:51.988389Z",
     "start_time": "2024-06-12T00:56:51.973389Z"
    },
    "scrolled": false
   },
   "outputs": [],
   "source": [
    "discreteDistribution = bayesianNetwork0.discreteDistributions.add()\n",
    "discreteDistribution.name = \"hypertension\"\n",
    "variable = discreteDistribution.variables.add()\n",
    "variable.name = \"hypertension\"\n",
    "variable.probability = 0.50\n",
    "variable = discreteDistribution.variables.add()\n",
    "variable.name = \"no_hypertension\"\n",
    "variable.probability = 0.50\n",
    "\n",
    "discreteDistribution = bayesianNetwork0.discreteDistributions.add()\n",
    "discreteDistribution.name = \"disorders_of_lipid_metabolism\"\n",
    "variable = discreteDistribution.variables.add()\n",
    "variable.name = \"disorders_of_lipid_metabolism\"\n",
    "variable.probability = 0.50\n",
    "variable = discreteDistribution.variables.add()\n",
    "variable.name = \"no_disorders_of_lipid_metabolism\"\n",
    "variable.probability = 0.50\n",
    "\n",
    "discreteDistribution = bayesianNetwork0.discreteDistributions.add()\n",
    "discreteDistribution.name = \"diabetes\"\n",
    "variable = discreteDistribution.variables.add()\n",
    "variable.name = \"diabetes\"\n",
    "variable.probability = 0.50\n",
    "variable = discreteDistribution.variables.add()\n",
    "variable.name = \"no_diabetes\"\n",
    "variable.probability = 0.50\n",
    "#\n",
    "cpt[\"metabolic_disease\"] = any_of(bayesianNetwork0,cpt,\n",
    "        {\n",
    " 'hypertension':{ \"hypertension\"},\n",
    " \"disorders_of_lipid_metabolism\":{\"disorders_of_lipid_metabolism\"},\n",
    " \"diabetes\":{\"diabetes\"}\n",
    " },\n",
    " [\"metabolic_disease\",\"no_metabolic_disease\"]\n",
    "\n",
    " )\n",
    "#\n",
    "cpt[\"metabolic_syndrome\"] = all_of(bayesianNetwork0,cpt,\n",
    "{\n",
    " 'hypertension':{ \"hypertension\"},\n",
    " \"disorders_of_lipid_metabolism\":{\"disorders_of_lipid_metabolism\"},\n",
    " \"diabetes\":{\"diabetes\"}\n",
    " },\n",
    "[\"metabolic_syndrome\",\"no_metabolic_syndrome\"]\n",
    "\n",
    ")\n",
    "#\n",
    "outstr = outstr + non_cpt_descriptions(bayesianNetwork0)\n",
    "outstr = outstr + addCpt(bayesianNetwork0,cpt) \n",
    "longevity0 = bayesInitialize(bayesianNetwork0)\n",
    "longevity0.bake()\n",
    "bayesianNetwork0\n",
    "\n",
    "\n",
    "longevity0.probability([\n",
    "         ['hypertension',\n",
    "         \"disorders_of_lipid_metabolism\",\n",
    "         \"diabetes\",\n",
    "    \"metabolic_disease\",\n",
    "    \"metabolic_syndrome\"], ['hypertension',\n",
    "         \"disorders_of_lipid_metabolism\",\n",
    "         \"no_diabetes\",\n",
    "    \"metabolic_disease\",\n",
    "    \"no_metabolic_syndrome\"], ['hypertension',\n",
    "         \"no_disorders_of_lipid_metabolism\",\n",
    "         \"diabetes\",\n",
    "    \"metabolic_disease\",\n",
    "    \"no_metabolic_syndrome\"], ['hypertension',\n",
    "         \"no_disorders_of_lipid_metabolism\",\n",
    "         \"no_diabetes\",\n",
    "    \"metabolic_disease\",\n",
    "    \"no_metabolic_syndrome\"], ['no_hypertension',\n",
    "         \"disorders_of_lipid_metabolism\",\n",
    "         \"diabetes\",\n",
    "    \"metabolic_disease\",\n",
    "    \"no_metabolic_syndrome\"], ['no_hypertension',\n",
    "         \"disorders_of_lipid_metabolism\",\n",
    "         \"no_diabetes\",\n",
    "    \"metabolic_disease\",\n",
    "    \"no_metabolic_syndrome\"], ['no_hypertension',\n",
    "         \"no_disorders_of_lipid_metabolism\",\n",
    "         \"diabetes\",\n",
    "    \"metabolic_disease\",\n",
    "    \"no_metabolic_syndrome\"], ['no_hypertension',\n",
    "         \"no_disorders_of_lipid_metabolism\",\n",
    "         \"no_diabetes\",\n",
    "    \"no_metabolic_disease\",\n",
    "    \"no_metabolic_syndrome\"],\n",
    "])\n",
    "\n",
    "predict_proba_adjusted(longevity0,bayesianNetwork0)\n",
    "\n",
    "invars = [({\"hypertension\":[\"hypertension\"]},{\"sensitivity\":1.0, \"specificity\":0.6666})]\n",
    "outvars = {\"disorders_of_lipid_metabolism\":0.25,\"no_disorders_of_lipid_metabolism\":0.75}"
   ]
  },
  {
   "cell_type": "code",
   "execution_count": 3,
   "id": "c3b96959",
   "metadata": {
    "ExecuteTime": {
     "end_time": "2024-06-12T00:56:52.525668Z",
     "start_time": "2024-06-12T00:56:51.990389Z"
    },
    "scrolled": false
   },
   "outputs": [
    {
     "name": "stdout",
     "output_type": "stream",
     "text": [
      "start timing...\n",
      "[({'hypertension': ['hypertension']}, {'sensitivity': 1.0, 'specificity': 0.6666})] ==> {'disorders_of_lipid_metabolism': 0.25, 'no_disorders_of_lipid_metabolism': 0.75} took 0.0176987000000004 seconds\n"
     ]
    },
    {
     "name": "stderr",
     "output_type": "stream",
     "text": [
      "C:\\Users\\Osvaldo\\anaconda3\\lib\\site-packages\\qpsolvers\\conversions\\ensure_sparse_matrices.py:24: UserWarning: Converted P to scipy.sparse.csc.csc_matrix\n",
      "For best performance, build P as a scipy.sparse.csc_matrix rather than as a numpy.ndarray\n",
      "  warnings.warn(\n",
      "C:\\Users\\Osvaldo\\anaconda3\\lib\\site-packages\\qpsolvers\\conversions\\ensure_sparse_matrices.py:24: UserWarning: Converted G to scipy.sparse.csc.csc_matrix\n",
      "For best performance, build G as a scipy.sparse.csc_matrix rather than as a numpy.ndarray\n",
      "  warnings.warn(\n",
      "C:\\Users\\Osvaldo\\anaconda3\\lib\\site-packages\\qpsolvers\\conversions\\ensure_sparse_matrices.py:24: UserWarning: Converted A to scipy.sparse.csc.csc_matrix\n",
      "For best performance, build A as a scipy.sparse.csc_matrix rather than as a numpy.ndarray\n",
      "  warnings.warn(\n"
     ]
    }
   ],
   "source": [
    "cpt_rows,keylist,outvars,description = dependency_direct(bayesianNetwork0, cpt, invars, outvars, priors = None,adjust=False)"
   ]
  },
  {
   "cell_type": "code",
   "execution_count": 4,
   "id": "302f0e89",
   "metadata": {
    "ExecuteTime": {
     "end_time": "2024-06-12T00:56:52.541669Z",
     "start_time": "2024-06-12T00:56:52.526671Z"
    }
   },
   "outputs": [
    {
     "data": {
      "text/plain": [
       "'Against the baseline risks, the sensitivity that {0} will be disorders_of_lipid_metabolism for those in the hypertension category of hypertension is 1.0 , and the specificity that {0} will be disorders_of_lipid_metabolism for those in the hypertension category of hypertension is 0.6666.'"
      ]
     },
     "execution_count": 4,
     "metadata": {},
     "output_type": "execute_result"
    }
   ],
   "source": [
    "description"
   ]
  },
  {
   "cell_type": "code",
   "execution_count": 5,
   "id": "9f9aed6d",
   "metadata": {
    "ExecuteTime": {
     "end_time": "2024-06-12T00:56:52.556669Z",
     "start_time": "2024-06-12T00:56:52.543669Z"
    }
   },
   "outputs": [
    {
     "data": {
      "text/plain": [
       "{'disorders_of_lipid_metabolism': 0.25,\n",
       " 'no_disorders_of_lipid_metabolism': 0.75}"
      ]
     },
     "execution_count": 5,
     "metadata": {},
     "output_type": "execute_result"
    }
   ],
   "source": [
    "outvars"
   ]
  },
  {
   "cell_type": "code",
   "execution_count": 6,
   "id": "6bd8fb85",
   "metadata": {
    "ExecuteTime": {
     "end_time": "2024-06-12T00:56:52.571669Z",
     "start_time": "2024-06-12T00:56:52.557670Z"
    }
   },
   "outputs": [
    {
     "data": {
      "text/plain": [
       "['hypertension']"
      ]
     },
     "execution_count": 6,
     "metadata": {},
     "output_type": "execute_result"
    }
   ],
   "source": [
    "keylist"
   ]
  },
  {
   "cell_type": "code",
   "execution_count": 7,
   "id": "d231f2f2",
   "metadata": {
    "ExecuteTime": {
     "end_time": "2024-06-12T00:56:52.587407Z",
     "start_time": "2024-06-12T00:56:52.572670Z"
    }
   },
   "outputs": [
    {
     "data": {
      "text/plain": [
       "[['hypertension', 'disorders_of_lipid_metabolism', 0.49969181033613896],\n",
       " ['hypertension', 'no_disorders_of_lipid_metabolism', 0.500308189663861],\n",
       " ['no_hypertension', 'disorders_of_lipid_metabolism', 0.00016581285198614935],\n",
       " ['no_hypertension', 'no_disorders_of_lipid_metabolism', 0.9998341871480139]]"
      ]
     },
     "execution_count": 7,
     "metadata": {},
     "output_type": "execute_result"
    }
   ],
   "source": [
    "cpt_rows"
   ]
  },
  {
   "cell_type": "code",
   "execution_count": 8,
   "id": "2358a81a",
   "metadata": {
    "ExecuteTime": {
     "end_time": "2024-06-12T00:56:52.603172Z",
     "start_time": "2024-06-12T00:56:52.588414Z"
    }
   },
   "outputs": [
    {
     "data": {
      "text/plain": [
       "{'hypertension': 0,\n",
       " 'disorders_of_lipid_metabolism': 1,\n",
       " 'diabetes': 2,\n",
       " 'metabolic_disease': 3,\n",
       " 'metabolic_syndrome': 4}"
      ]
     },
     "execution_count": 8,
     "metadata": {},
     "output_type": "execute_result"
    }
   ],
   "source": [
    "var_positions= get_var_positions(bayesianNetwork0)\n",
    "var_positions"
   ]
  },
  {
   "cell_type": "code",
   "execution_count": 9,
   "id": "cb7f46af",
   "metadata": {
    "ExecuteTime": {
     "end_time": "2024-06-12T00:56:52.762229Z",
     "start_time": "2024-06-12T00:56:52.605173Z"
    }
   },
   "outputs": [
    {
     "name": "stdout",
     "output_type": "stream",
     "text": [
      "{'hypertension': [], 'disorders_of_lipid_metabolism': [], 'diabetes': [], 'metabolic_disease': ['hypertension', 'disorders_of_lipid_metabolism', 'diabetes'], 'metabolic_syndrome': ['hypertension', 'disorders_of_lipid_metabolism', 'diabetes']}\n",
      "[['hypertension', 'disorders_of_lipid_metabolism', 'diabetes'], ['metabolic_disease', 'metabolic_syndrome']]\n"
     ]
    },
    {
     "data": {
      "image/png": "[encoded data removed]",
      "text/plain": [
       "<Figure size 600x600 with 1 Axes>"
      ]
     },
     "metadata": {},
     "output_type": "display_data"
    }
   ],
   "source": [
    "df = make_tree(bayesianNetwork0)\n",
    "G = nx.DiGraph()\n",
    "regex = re.compile(r'^([a-z_]*)\\(.*')\n",
    "for index, row in df.iterrows():\n",
    "    for col in df.columns:\n",
    "        if row[col] is not None:\n",
    "            node = row[col][:-1] if col == \"level0\" else row[col]\n",
    "            G.add_node(node)           \n",
    "for node1 in G.nodes:\n",
    "    for node2 in G.nodes:\n",
    "        match = regex.match(node1)\n",
    "        if (node1+',' in node2) or (match is not None and match.group(1)+\",\" in node2): \n",
    "            G.add_edge(node1,node2)\n",
    "            if match is not None and match.group(1)+\",\" in node2:\n",
    "                print (node1)\n",
    "                print(node2)\n",
    "                \n",
    "plt.figure(3,figsize=(6,6)) \n",
    "nx.draw_circular(G, with_labels=True)"
   ]
  },
  {
   "cell_type": "code",
   "execution_count": 10,
   "id": "0ad1ccca",
   "metadata": {
    "ExecuteTime": {
     "end_time": "2024-06-12T00:56:52.778230Z",
     "start_time": "2024-06-12T00:56:52.763229Z"
    }
   },
   "outputs": [],
   "source": [
    "include_list = [\"disorders_of_lipid_metabolism\"]"
   ]
  },
  {
   "cell_type": "raw",
   "id": "0287caf8",
   "metadata": {
    "ExecuteTime": {
     "end_time": "2024-06-10T16:56:31.834460Z",
     "start_time": "2024-06-10T16:56:31.807465Z"
    }
   },
   "source": [
    "evidence = {}\n",
    "evidence[\"hypertension\"] = \"hypertension\"\n",
    "internal_query_result =  internal_query(longevity0,bayesianNetwork0,evidence)\n",
    "checklist = include_list\n",
    "why_bad = explain_why_bad(longevity0,bayesianNetwork0,evidence,outvars,internal_query_result=internal_query_result,include_list = checklist)\n"
   ]
  },
  {
   "cell_type": "code",
   "execution_count": null,
   "id": "7009937e",
   "metadata": {},
   "outputs": [],
   "source": []
  }
 ],
 "metadata": {
  "hide_input": false,
  "kernelspec": {
   "display_name": "Python 3 (ipykernel)",
   "language": "python",
   "name": "python3"
  },
  "language_info": {
   "codemirror_mode": {
    "name": "ipython",
    "version": 3
   },
   "file_extension": ".py",
   "mimetype": "text/x-python",
   "name": "python",
   "nbconvert_exporter": "python",
   "pygments_lexer": "ipython3",
   "version": "3.9.13"
  },
  "toc": {
   "base_numbering": 1,
   "nav_menu": {},
   "number_sections": true,
   "sideBar": true,
   "skip_h1_title": false,
   "title_cell": "Table of Contents",
   "title_sidebar": "Contents",
   "toc_cell": false,
   "toc_position": {},
   "toc_section_display": true,
   "toc_window_display": false
  }
 },
 "nbformat": 4,
 "nbformat_minor": 5
}
